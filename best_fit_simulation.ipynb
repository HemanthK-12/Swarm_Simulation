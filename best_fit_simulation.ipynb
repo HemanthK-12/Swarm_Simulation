{
 "cells": [
  {
   "cell_type": "markdown",
   "metadata": {},
   "source": [
    "Best-Fit Line Simulation"
   ]
  },
  {
   "cell_type": "markdown",
   "metadata": {},
   "source": [
    "This python code's objective is to exhibit and simulate how a swarm of bots can coordinate to arrange themselves along their best-fit line."
   ]
  },
  {
   "cell_type": "code",
   "execution_count": null,
   "metadata": {},
   "outputs": [],
   "source": [
    "import numpy as np\n",
    "import matplotlib.pyplot as plt\n",
    "import matplotlib.animation as animation"
   ]
  },
  {
   "cell_type": "markdown",
   "metadata": {},
   "source": [
    "This imports all necessary libraries for calculation,plotting of the simulation and it's animation."
   ]
  },
  {
   "cell_type": "code",
   "execution_count": null,
   "metadata": {},
   "outputs": [],
   "source": [
    "number_of_bots= (int)(input(\"Enter a number: \"))\n",
    "x = np.random.normal(0, 50, number_of_bots)\n",
    "y = np.random.normal(0, 50, number_of_bots)"
   ]
  },
  {
   "cell_type": "markdown",
   "metadata": {},
   "source": [
    "This takes in the number of bots needed in the swarm as input from the user and makes two arrays(x and y) with random coordinates of the bots in a range of 0 to 50.50 is taken for convenience."
   ]
  },
  {
   "cell_type": "code",
   "execution_count": null,
   "metadata": {},
   "outputs": [],
   "source": [
    "def bestfit():\n",
    "    m=((np.mean(x)*np.mean(y))-np.mean(x*y))/((np.mean(x)*np.mean(x))-np.mean(x*x))\n",
    "    c=np.mean(y)-m*np.mean(x)\n",
    "    return (m,c)\n",
    "\n",
    "m_bestfit,c_bestfit=bestfit()\n",
    "\n",
    "def y_bestfit(x):\n",
    "    return (m_bestfit*x)+c_bestfit"
   ]
  },
  {
   "cell_type": "markdown",
   "metadata": {},
   "source": [
    "This defines a functio whcih calculates the best-fit line "
   ]
  }
 ],
 "metadata": {
  "kernelspec": {
   "display_name": "Python 3",
   "language": "python",
   "name": "python3"
  },
  "language_info": {
   "name": "python",
   "version": "3.12.0"
  }
 },
 "nbformat": 4,
 "nbformat_minor": 2
}
